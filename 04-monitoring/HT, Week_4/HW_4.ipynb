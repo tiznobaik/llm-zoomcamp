{
 "cells": [
  {
   "cell_type": "code",
   "execution_count": 1,
   "metadata": {},
   "outputs": [],
   "source": [
    "import pandas as pd\n",
    "import numpy as np"
   ]
  },
  {
   "cell_type": "code",
   "execution_count": 2,
   "metadata": {},
   "outputs": [],
   "source": [
    "df = pd.read_csv('../data/results-gpt4o-mini-cosine.csv', nrows=300)"
   ]
  },
  {
   "cell_type": "markdown",
   "metadata": {},
   "source": [
    "## Q1. Getting the embeddings model"
   ]
  },
  {
   "cell_type": "code",
   "execution_count": 3,
   "metadata": {},
   "outputs": [
    {
     "name": "stderr",
     "output_type": "stream",
     "text": [
      "/Users/hani/Documents/llm-zoomcamp/llm/lib/python3.9/site-packages/sentence_transformers/cross_encoder/CrossEncoder.py:11: TqdmWarning: IProgress not found. Please update jupyter and ipywidgets. See https://ipywidgets.readthedocs.io/en/stable/user_install.html\n",
      "  from tqdm.autonotebook import tqdm, trange\n"
     ]
    },
    {
     "name": "stdout",
     "output_type": "stream",
     "text": [
      "What's the first value of the resulting vector?:  -0.42\n"
     ]
    }
   ],
   "source": [
    "from sentence_transformers import SentenceTransformer\n",
    "embedding_model = SentenceTransformer('multi-qa-mpnet-base-dot-v1')\n",
    "answer_llm = df.iloc[0].answer_llm\n",
    "vector = embedding_model.encode(answer_llm)\n",
    "print(\"What's the first value of the resulting vector?: \", round(vector[0], 2))"
   ]
  },
  {
   "cell_type": "markdown",
   "metadata": {},
   "source": [
    "## Q2. Computing the dot product"
   ]
  },
  {
   "cell_type": "code",
   "execution_count": 4,
   "metadata": {},
   "outputs": [],
   "source": [
    "# Function to compute embeddings\n",
    "def emb_cal(row, column):\n",
    "    value = row[column]\n",
    "    return embedding_model.encode(value)\n",
    "\n",
    "# Compute embeddings for both columns\n",
    "df['answer_llm_vector'] = df.apply(lambda row: emb_cal(row, column='answer_llm'), axis=1)\n",
    "df['answer_orig_vector'] = df.apply(lambda row: emb_cal(row, column='answer_orig'), axis=1)"
   ]
  },
  {
   "cell_type": "code",
   "execution_count": 5,
   "metadata": {},
   "outputs": [
    {
     "name": "stdout",
     "output_type": "stream",
     "text": [
      "What's the 75% percentile of the score?:  31.67\n"
     ]
    }
   ],
   "source": [
    "# Compute the dot product and store in 'score'\n",
    "df['score'] = df.apply(lambda row: np.dot(row['answer_llm_vector'], row['answer_orig_vector']), axis=1)\n",
    "\n",
    "print(\"What's the 75% percentile of the score?: \", round(df['score'].quantile(0.75), 2))"
   ]
  },
  {
   "cell_type": "markdown",
   "metadata": {},
   "source": [
    "## Q3. Computing the cosine"
   ]
  },
  {
   "cell_type": "code",
   "execution_count": 6,
   "metadata": {},
   "outputs": [
    {
     "name": "stdout",
     "output_type": "stream",
     "text": [
      "What's the 75% cosine in the scores?:  0.836\n"
     ]
    }
   ],
   "source": [
    "# Function to normalize vectors\n",
    "def normalize_vector(v):\n",
    "    norm = np.sqrt((v * v).sum())\n",
    "    return v / norm\n",
    "\n",
    "# Normalize vectors\n",
    "df['answer_llm_vector_norm'] = df['answer_llm_vector'].apply(normalize_vector)\n",
    "df['answer_orig_vector_norm'] = df['answer_orig_vector'].apply(normalize_vector)\n",
    "\n",
    "# Compute the cosine similarity (dot product of normalized vectors)\n",
    "df['cosine_similarity'] = df.apply(lambda row: np.dot(row['answer_llm_vector_norm'], row['answer_orig_vector_norm']), axis=1)\n",
    "\n",
    "print(\"What's the 75% cosine in the scores?: \", round(df['cosine_similarity'].quantile(0.75), 3))"
   ]
  },
  {
   "cell_type": "markdown",
   "metadata": {},
   "source": [
    "## Q4. Rouge"
   ]
  },
  {
   "cell_type": "code",
   "execution_count": 7,
   "metadata": {},
   "outputs": [
    {
     "name": "stdout",
     "output_type": "stream",
     "text": [
      "What's the F score for rouge-1?  0.45\n"
     ]
    }
   ],
   "source": [
    "from rouge import Rouge\n",
    "\n",
    "rouge_scorer = Rouge()\n",
    "scores = rouge_scorer.get_scores(df['answer_llm'], df['answer_orig'])[10]\n",
    "print(\"What's the F score for rouge-1? \", round(scores['rouge-1']['f'], 2))"
   ]
  },
  {
   "cell_type": "markdown",
   "metadata": {},
   "source": [
    "## Q5. Average rouge score"
   ]
  },
  {
   "cell_type": "code",
   "execution_count": 8,
   "metadata": {},
   "outputs": [
    {
     "name": "stdout",
     "output_type": "stream",
     "text": [
      "Average between rouge-1, rouge-2 and rouge-l for the same record from Q4  0.35\n"
     ]
    }
   ],
   "source": [
    "f1_scores = [scores['rouge-1']['f'], scores['rouge-2']['f'], scores['rouge-l']['f']]\n",
    "print(\"Average between rouge-1, rouge-2 and rouge-l for the same record from Q4 \", round(sum(f1_scores)/ len(f1_scores), 2))"
   ]
  },
  {
   "cell_type": "markdown",
   "metadata": {},
   "source": [
    "## Q6. Average rouge score for all the data points"
   ]
  },
  {
   "cell_type": "code",
   "execution_count": 9,
   "metadata": {},
   "outputs": [
    {
     "name": "stdout",
     "output_type": "stream",
     "text": [
      "What's the agerage rouge_2 across all the records?  0.207\n"
     ]
    }
   ],
   "source": [
    "rouge_scorer = Rouge()\n",
    "# Define a function to calculate ROUGE scores for a single row\n",
    "def calculate_rouge_scores(row):\n",
    "    # Get the ROUGE scores for the given row\n",
    "    scores = rouge_scorer.get_scores(row['answer_llm'], row['answer_orig'])[0]\n",
    "    # Extract F1 scores for ROUGE-1, ROUGE-2, and ROUGE-L\n",
    "    rouge_1_f = scores['rouge-1']['f']\n",
    "    rouge_2_f = scores['rouge-2']['f']\n",
    "    rouge_l_f = scores['rouge-l']['f']\n",
    "    rouge_avg = (rouge_1_f + rouge_2_f + rouge_l_f) / 3\n",
    "    return pd.Series([rouge_1_f, rouge_2_f, rouge_l_f, rouge_avg])\n",
    "\n",
    "# Apply the function to each row in the DataFrame\n",
    "df[['rouge-1_f1', 'rouge-2_f1', 'rouge-l_f1', 'rouge-avg_f1']] = df.apply(calculate_rouge_scores, axis=1)\n",
    "\n",
    "print(\"What's the agerage rouge_2 across all the records? \", round(df['rouge-2_f1'].mean(), 3))"
   ]
  }
 ],
 "metadata": {
  "kernelspec": {
   "display_name": "llm",
   "language": "python",
   "name": "python3"
  },
  "language_info": {
   "codemirror_mode": {
    "name": "ipython",
    "version": 3
   },
   "file_extension": ".py",
   "mimetype": "text/x-python",
   "name": "python",
   "nbconvert_exporter": "python",
   "pygments_lexer": "ipython3",
   "version": "3.9.12"
  }
 },
 "nbformat": 4,
 "nbformat_minor": 2
}
