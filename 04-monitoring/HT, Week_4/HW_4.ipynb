{
 "cells": [
  {
   "cell_type": "code",
   "execution_count": 23,
   "metadata": {},
   "outputs": [],
   "source": [
    "import pandas as pd\n",
    "from sentence_transformers import SentenceTransformer\n",
    "import numpy as np"
   ]
  },
  {
   "cell_type": "code",
   "execution_count": 2,
   "metadata": {},
   "outputs": [],
   "source": [
    "# !head -n 5 ../data/results-gpt4o-mini-cosine.csv\n",
    "df = pd.read_csv('../data/results-gpt4o-mini-cosine.csv', nrows=300)"
   ]
  },
  {
   "cell_type": "markdown",
   "metadata": {},
   "source": [
    "## Q1. Getting the embeddings model"
   ]
  },
  {
   "cell_type": "code",
   "execution_count": 9,
   "metadata": {},
   "outputs": [
    {
     "name": "stdout",
     "output_type": "stream",
     "text": [
      "What's the first value of the resulting vector?:  -0.42\n"
     ]
    }
   ],
   "source": [
    "embedding_model = SentenceTransformer('multi-qa-mpnet-base-dot-v1')\n",
    "answer_llm = df.iloc[0].answer_llm\n",
    "vector = embedding_model.encode(answer_llm)\n",
    "print(\"What's the first value of the resulting vector?: \", round(vector[0], 2))"
   ]
  },
  {
   "cell_type": "markdown",
   "metadata": {},
   "source": [
    "## Q2. Computing the dot product"
   ]
  },
  {
   "cell_type": "code",
   "execution_count": 19,
   "metadata": {},
   "outputs": [],
   "source": [
    "# Function to compute embeddings\n",
    "def emb_cal(row, column):\n",
    "    value = row[column]\n",
    "    return embedding_model.encode(value)\n",
    "\n",
    "# Compute embeddings for both columns\n",
    "df['answer_llm_vector'] = df.apply(lambda row: emb_cal(row, column='answer_llm'), axis=1)\n",
    "df['answer_orig_vector'] = df.apply(lambda row: emb_cal(row, column='answer_orig'), axis=1)"
   ]
  },
  {
   "cell_type": "code",
   "execution_count": 27,
   "metadata": {},
   "outputs": [
    {
     "name": "stdout",
     "output_type": "stream",
     "text": [
      "What's the 75% percentile of the score?:  31.67\n"
     ]
    }
   ],
   "source": [
    "# Compute the dot product and store in 'score'\n",
    "df['score'] = df.apply(lambda row: np.dot(row['answer_llm_vector'], row['answer_orig_vector']), axis=1)\n",
    "\n",
    "print(\"What's the 75% percentile of the score?: \", round(df['score'].quantile(0.75), 2))"
   ]
  },
  {
   "cell_type": "code",
   "execution_count": null,
   "metadata": {},
   "outputs": [],
   "source": []
  }
 ],
 "metadata": {
  "kernelspec": {
   "display_name": "llm",
   "language": "python",
   "name": "python3"
  },
  "language_info": {
   "codemirror_mode": {
    "name": "ipython",
    "version": 3
   },
   "file_extension": ".py",
   "mimetype": "text/x-python",
   "name": "python",
   "nbconvert_exporter": "python",
   "pygments_lexer": "ipython3",
   "version": "3.9.12"
  }
 },
 "nbformat": 4,
 "nbformat_minor": 2
}
